{
  "nbformat": 4,
  "nbformat_minor": 0,
  "metadata": {
    "accelerator": "GPU",
    "colab": {
      "name": "Agent_Source.ipynb",
      "provenance": [],
      "collapsed_sections": [],
      "toc_visible": true
    },
    "kernelspec": {
      "display_name": "Python 3",
      "language": "python",
      "name": "python3"
    },
    "language_info": {
      "codemirror_mode": {
        "name": "ipython",
        "version": 3
      },
      "file_extension": ".py",
      "mimetype": "text/x-python",
      "name": "python",
      "nbconvert_exporter": "python",
      "pygments_lexer": "ipython3",
      "version": "3.7.3"
    }
  },
  "cells": [
    {
      "cell_type": "code",
      "metadata": {
        "colab": {
          "base_uri": "https://localhost:8080/"
        },
        "id": "gjQQIf6f1iKY",
        "outputId": "61d89147-1021-4ede-b882-ffc84a8223a1"
      },
      "source": [
        "from google.colab import drive\n",
        "drive.mount('/content/drive')"
      ],
      "execution_count": null,
      "outputs": [
        {
          "output_type": "stream",
          "text": [
            "Mounted at /content/drive\n"
          ],
          "name": "stdout"
        }
      ]
    },
    {
      "cell_type": "markdown",
      "metadata": {
        "id": "27P_7kbKsCY4"
      },
      "source": [
        "# **Import Dependencies**"
      ]
    },
    {
      "cell_type": "code",
      "metadata": {
        "id": "cim7meh-nT9V"
      },
      "source": [
        "import pandas as pd\n",
        "import datetime as dt\n",
        "import matplotlib.pyplot as plt\n",
        "\n",
        "from sklearn import ensemble\n",
        "from sklearn.preprocessing import StandardScaler"
      ],
      "execution_count": null,
      "outputs": []
    },
    {
      "cell_type": "markdown",
      "metadata": {
        "id": "6OnfW8o4sHc2"
      },
      "source": [
        "# **Data Analysis**"
      ]
    },
    {
      "cell_type": "markdown",
      "metadata": {
        "id": "qy3hnOd1t1ru"
      },
      "source": [
        "### Load data"
      ]
    },
    {
      "cell_type": "code",
      "metadata": {
        "id": "XKiJnkAqoPUP"
      },
      "source": [
        "# train_data_csv\n",
        "data = pd.read_csv('/content/drive/MyDrive/Colab Notebooks/Datasets/Internshalla/Train_VWXNENq.csv')\n",
        "\n",
        "# test_data_csv\n",
        "data_test = pd.read_csv('/content/drive/MyDrive/Colab Notebooks/Datasets/Internshalla/Test_3UxFOGW.csv')\n",
        "\n",
        "# To get the final csv file with prediction\n",
        "solution = pd.read_csv('/content/drive/MyDrive/Colab Notebooks/Datasets/Internshalla/Sample_Submission_JdZWaxb.csv')"
      ],
      "execution_count": null,
      "outputs": []
    },
    {
      "cell_type": "markdown",
      "metadata": {
        "id": "TXFvl3aKh1yJ"
      },
      "source": [
        "### Explore data and check some statistics"
      ]
    },
    {
      "cell_type": "code",
      "metadata": {
        "id": "kcZ88recuw2Q",
        "colab": {
          "base_uri": "https://localhost:8080/"
        },
        "outputId": "ea0ab86c-2c97-45ab-a4f7-eeb100e5b332"
      },
      "source": [
        "data.shape"
      ],
      "execution_count": null,
      "outputs": [
        {
          "output_type": "execute_result",
          "data": {
            "text/plain": [
              "(9527, 23)"
            ]
          },
          "metadata": {
            "tags": []
          },
          "execution_count": 4
        }
      ]
    },
    {
      "cell_type": "code",
      "metadata": {
        "id": "8KPf6D4wu0M9",
        "colab": {
          "base_uri": "https://localhost:8080/"
        },
        "outputId": "18422a53-1d66-4798-d39c-28c496c66092"
      },
      "source": [
        "data.columns"
      ],
      "execution_count": null,
      "outputs": [
        {
          "output_type": "execute_result",
          "data": {
            "text/plain": [
              "Index(['ID', 'Office_PIN', 'Application_Receipt_Date', 'Applicant_City_PIN',\n",
              "       'Applicant_Gender', 'Applicant_BirthDate', 'Applicant_Marital_Status',\n",
              "       'Applicant_Occupation', 'Applicant_Qualification', 'Manager_DOJ',\n",
              "       'Manager_Joining_Designation', 'Manager_Current_Designation',\n",
              "       'Manager_Grade', 'Manager_Status', 'Manager_Gender', 'Manager_DoB',\n",
              "       'Manager_Num_Application', 'Manager_Num_Coded', 'Manager_Business',\n",
              "       'Manager_Num_Products', 'Manager_Business2', 'Manager_Num_Products2',\n",
              "       'Business_Sourced'],\n",
              "      dtype='object')"
            ]
          },
          "metadata": {
            "tags": []
          },
          "execution_count": 5
        }
      ]
    },
    {
      "cell_type": "code",
      "metadata": {
        "colab": {
          "base_uri": "https://localhost:8080/",
          "height": 225
        },
        "id": "HdS6i9poogne",
        "outputId": "22e2f67a-8388-4d7f-a566-3657959c0e1d"
      },
      "source": [
        "data.head()"
      ],
      "execution_count": null,
      "outputs": [
        {
          "output_type": "execute_result",
          "data": {
            "text/html": [
              "<div>\n",
              "<style scoped>\n",
              "    .dataframe tbody tr th:only-of-type {\n",
              "        vertical-align: middle;\n",
              "    }\n",
              "\n",
              "    .dataframe tbody tr th {\n",
              "        vertical-align: top;\n",
              "    }\n",
              "\n",
              "    .dataframe thead th {\n",
              "        text-align: right;\n",
              "    }\n",
              "</style>\n",
              "<table border=\"1\" class=\"dataframe\">\n",
              "  <thead>\n",
              "    <tr style=\"text-align: right;\">\n",
              "      <th></th>\n",
              "      <th>ID</th>\n",
              "      <th>Office_PIN</th>\n",
              "      <th>Application_Receipt_Date</th>\n",
              "      <th>Applicant_City_PIN</th>\n",
              "      <th>Applicant_Gender</th>\n",
              "      <th>Applicant_BirthDate</th>\n",
              "      <th>Applicant_Marital_Status</th>\n",
              "      <th>Applicant_Occupation</th>\n",
              "      <th>Applicant_Qualification</th>\n",
              "      <th>Manager_DOJ</th>\n",
              "      <th>Manager_Joining_Designation</th>\n",
              "      <th>Manager_Current_Designation</th>\n",
              "      <th>Manager_Grade</th>\n",
              "      <th>Manager_Status</th>\n",
              "      <th>Manager_Gender</th>\n",
              "      <th>Manager_DoB</th>\n",
              "      <th>Manager_Num_Application</th>\n",
              "      <th>Manager_Num_Coded</th>\n",
              "      <th>Manager_Business</th>\n",
              "      <th>Manager_Num_Products</th>\n",
              "      <th>Manager_Business2</th>\n",
              "      <th>Manager_Num_Products2</th>\n",
              "      <th>Business_Sourced</th>\n",
              "    </tr>\n",
              "  </thead>\n",
              "  <tbody>\n",
              "    <tr>\n",
              "      <th>0</th>\n",
              "      <td>FIN1000001</td>\n",
              "      <td>842001</td>\n",
              "      <td>4/16/2007</td>\n",
              "      <td>844120.0</td>\n",
              "      <td>M</td>\n",
              "      <td>12/19/1971</td>\n",
              "      <td>M</td>\n",
              "      <td>Others</td>\n",
              "      <td>Graduate</td>\n",
              "      <td>11/10/2005</td>\n",
              "      <td>Level 1</td>\n",
              "      <td>Level 2</td>\n",
              "      <td>3.0</td>\n",
              "      <td>Confirmation</td>\n",
              "      <td>M</td>\n",
              "      <td>2/17/1978</td>\n",
              "      <td>2.0</td>\n",
              "      <td>1.0</td>\n",
              "      <td>335249.0</td>\n",
              "      <td>28.0</td>\n",
              "      <td>335249.0</td>\n",
              "      <td>28.0</td>\n",
              "      <td>0</td>\n",
              "    </tr>\n",
              "    <tr>\n",
              "      <th>1</th>\n",
              "      <td>FIN1000002</td>\n",
              "      <td>842001</td>\n",
              "      <td>4/16/2007</td>\n",
              "      <td>844111.0</td>\n",
              "      <td>M</td>\n",
              "      <td>2/17/1983</td>\n",
              "      <td>S</td>\n",
              "      <td>Others</td>\n",
              "      <td>Class XII</td>\n",
              "      <td>11/10/2005</td>\n",
              "      <td>Level 1</td>\n",
              "      <td>Level 2</td>\n",
              "      <td>3.0</td>\n",
              "      <td>Confirmation</td>\n",
              "      <td>M</td>\n",
              "      <td>2/17/1978</td>\n",
              "      <td>2.0</td>\n",
              "      <td>1.0</td>\n",
              "      <td>335249.0</td>\n",
              "      <td>28.0</td>\n",
              "      <td>335249.0</td>\n",
              "      <td>28.0</td>\n",
              "      <td>1</td>\n",
              "    </tr>\n",
              "    <tr>\n",
              "      <th>2</th>\n",
              "      <td>FIN1000003</td>\n",
              "      <td>800001</td>\n",
              "      <td>4/16/2007</td>\n",
              "      <td>844101.0</td>\n",
              "      <td>M</td>\n",
              "      <td>1/16/1966</td>\n",
              "      <td>M</td>\n",
              "      <td>Business</td>\n",
              "      <td>Class XII</td>\n",
              "      <td>5/27/2006</td>\n",
              "      <td>Level 1</td>\n",
              "      <td>Level 1</td>\n",
              "      <td>2.0</td>\n",
              "      <td>Confirmation</td>\n",
              "      <td>M</td>\n",
              "      <td>3/3/1969</td>\n",
              "      <td>0.0</td>\n",
              "      <td>0.0</td>\n",
              "      <td>357184.0</td>\n",
              "      <td>24.0</td>\n",
              "      <td>357184.0</td>\n",
              "      <td>24.0</td>\n",
              "      <td>0</td>\n",
              "    </tr>\n",
              "    <tr>\n",
              "      <th>3</th>\n",
              "      <td>FIN1000004</td>\n",
              "      <td>814112</td>\n",
              "      <td>4/16/2007</td>\n",
              "      <td>814112.0</td>\n",
              "      <td>M</td>\n",
              "      <td>2/3/1988</td>\n",
              "      <td>S</td>\n",
              "      <td>Salaried</td>\n",
              "      <td>Class XII</td>\n",
              "      <td>8/21/2003</td>\n",
              "      <td>Level 1</td>\n",
              "      <td>Level 3</td>\n",
              "      <td>4.0</td>\n",
              "      <td>Confirmation</td>\n",
              "      <td>F</td>\n",
              "      <td>8/14/1978</td>\n",
              "      <td>0.0</td>\n",
              "      <td>0.0</td>\n",
              "      <td>318356.0</td>\n",
              "      <td>22.0</td>\n",
              "      <td>318356.0</td>\n",
              "      <td>22.0</td>\n",
              "      <td>0</td>\n",
              "    </tr>\n",
              "    <tr>\n",
              "      <th>4</th>\n",
              "      <td>FIN1000005</td>\n",
              "      <td>814112</td>\n",
              "      <td>4/16/2007</td>\n",
              "      <td>815351.0</td>\n",
              "      <td>M</td>\n",
              "      <td>7/4/1985</td>\n",
              "      <td>M</td>\n",
              "      <td>Others</td>\n",
              "      <td>Class XII</td>\n",
              "      <td>5/8/2006</td>\n",
              "      <td>Level 1</td>\n",
              "      <td>Level 1</td>\n",
              "      <td>2.0</td>\n",
              "      <td>Confirmation</td>\n",
              "      <td>M</td>\n",
              "      <td>2/7/1971</td>\n",
              "      <td>2.0</td>\n",
              "      <td>1.0</td>\n",
              "      <td>230402.0</td>\n",
              "      <td>17.0</td>\n",
              "      <td>230402.0</td>\n",
              "      <td>17.0</td>\n",
              "      <td>0</td>\n",
              "    </tr>\n",
              "  </tbody>\n",
              "</table>\n",
              "</div>"
            ],
            "text/plain": [
              "           ID  Office_PIN  ... Manager_Num_Products2  Business_Sourced\n",
              "0  FIN1000001      842001  ...                  28.0                 0\n",
              "1  FIN1000002      842001  ...                  28.0                 1\n",
              "2  FIN1000003      800001  ...                  24.0                 0\n",
              "3  FIN1000004      814112  ...                  22.0                 0\n",
              "4  FIN1000005      814112  ...                  17.0                 0\n",
              "\n",
              "[5 rows x 23 columns]"
            ]
          },
          "metadata": {
            "tags": []
          },
          "execution_count": 6
        }
      ]
    },
    {
      "cell_type": "code",
      "metadata": {
        "colab": {
          "base_uri": "https://localhost:8080/"
        },
        "id": "soo-8SyGokGk",
        "outputId": "d384d58a-414c-4729-9926-78fad9b29da4"
      },
      "source": [
        "data.info()"
      ],
      "execution_count": null,
      "outputs": [
        {
          "output_type": "stream",
          "text": [
            "<class 'pandas.core.frame.DataFrame'>\n",
            "RangeIndex: 9527 entries, 0 to 9526\n",
            "Data columns (total 23 columns):\n",
            " #   Column                       Non-Null Count  Dtype  \n",
            "---  ------                       --------------  -----  \n",
            " 0   ID                           9527 non-null   object \n",
            " 1   Office_PIN                   9527 non-null   int64  \n",
            " 2   Application_Receipt_Date     9527 non-null   object \n",
            " 3   Applicant_City_PIN           9430 non-null   float64\n",
            " 4   Applicant_Gender             9460 non-null   object \n",
            " 5   Applicant_BirthDate          9454 non-null   object \n",
            " 6   Applicant_Marital_Status     9454 non-null   object \n",
            " 7   Applicant_Occupation         8306 non-null   object \n",
            " 8   Applicant_Qualification      9441 non-null   object \n",
            " 9   Manager_DOJ                  8844 non-null   object \n",
            " 10  Manager_Joining_Designation  8844 non-null   object \n",
            " 11  Manager_Current_Designation  8844 non-null   object \n",
            " 12  Manager_Grade                8844 non-null   float64\n",
            " 13  Manager_Status               8844 non-null   object \n",
            " 14  Manager_Gender               8844 non-null   object \n",
            " 15  Manager_DoB                  8844 non-null   object \n",
            " 16  Manager_Num_Application      8844 non-null   float64\n",
            " 17  Manager_Num_Coded            8844 non-null   float64\n",
            " 18  Manager_Business             8844 non-null   float64\n",
            " 19  Manager_Num_Products         8844 non-null   float64\n",
            " 20  Manager_Business2            8844 non-null   float64\n",
            " 21  Manager_Num_Products2        8844 non-null   float64\n",
            " 22  Business_Sourced             9527 non-null   int64  \n",
            "dtypes: float64(8), int64(2), object(13)\n",
            "memory usage: 1.7+ MB\n"
          ],
          "name": "stdout"
        }
      ]
    },
    {
      "cell_type": "code",
      "metadata": {
        "id": "EEkyl25Uu9Pv",
        "colab": {
          "base_uri": "https://localhost:8080/"
        },
        "outputId": "7d50868b-5b19-4e81-a662-927f321eabef"
      },
      "source": [
        "data_test.shape"
      ],
      "execution_count": null,
      "outputs": [
        {
          "output_type": "execute_result",
          "data": {
            "text/plain": [
              "(5045, 22)"
            ]
          },
          "metadata": {
            "tags": []
          },
          "execution_count": 8
        }
      ]
    },
    {
      "cell_type": "code",
      "metadata": {
        "id": "MG9AovpgvH0O",
        "colab": {
          "base_uri": "https://localhost:8080/"
        },
        "outputId": "ae058a6d-7448-49db-a0fe-239477827f79"
      },
      "source": [
        "data_test.columns"
      ],
      "execution_count": null,
      "outputs": [
        {
          "output_type": "execute_result",
          "data": {
            "text/plain": [
              "Index(['ID', 'Office_PIN', 'Application_Receipt_Date', 'Applicant_City_PIN',\n",
              "       'Applicant_Gender', 'Applicant_BirthDate', 'Applicant_Marital_Status',\n",
              "       'Applicant_Occupation', 'Applicant_Qualification', 'Manager_DOJ',\n",
              "       'Manager_Joining_Designation', 'Manager_Current_Designation',\n",
              "       'Manager_Grade', 'Manager_Status', 'Manager_Gender', 'Manager_DoB',\n",
              "       'Manager_Num_Application', 'Manager_Num_Coded', 'Manager_Business',\n",
              "       'Manager_Num_Products', 'Manager_Business2', 'Manager_Num_Products2'],\n",
              "      dtype='object')"
            ]
          },
          "metadata": {
            "tags": []
          },
          "execution_count": 9
        }
      ]
    },
    {
      "cell_type": "code",
      "metadata": {
        "colab": {
          "base_uri": "https://localhost:8080/"
        },
        "id": "vcx4IXrP0Lir",
        "outputId": "154f9bfd-124d-4bfd-e486-baa8757fc3af"
      },
      "source": [
        "data_test.info()"
      ],
      "execution_count": null,
      "outputs": [
        {
          "output_type": "stream",
          "text": [
            "<class 'pandas.core.frame.DataFrame'>\n",
            "RangeIndex: 5045 entries, 0 to 5044\n",
            "Data columns (total 22 columns):\n",
            " #   Column                       Non-Null Count  Dtype  \n",
            "---  ------                       --------------  -----  \n",
            " 0   ID                           5045 non-null   object \n",
            " 1   Office_PIN                   5045 non-null   int64  \n",
            " 2   Application_Receipt_Date     5045 non-null   object \n",
            " 3   Applicant_City_PIN           5011 non-null   float64\n",
            " 4   Applicant_Gender             5023 non-null   object \n",
            " 5   Applicant_BirthDate          5022 non-null   object \n",
            " 6   Applicant_Marital_Status     5015 non-null   object \n",
            " 7   Applicant_Occupation         4041 non-null   object \n",
            " 8   Applicant_Qualification      5001 non-null   object \n",
            " 9   Manager_DOJ                  4221 non-null   object \n",
            " 10  Manager_Joining_Designation  4221 non-null   object \n",
            " 11  Manager_Current_Designation  4221 non-null   object \n",
            " 12  Manager_Grade                4221 non-null   float64\n",
            " 13  Manager_Status               4221 non-null   object \n",
            " 14  Manager_Gender               4221 non-null   object \n",
            " 15  Manager_DoB                  4221 non-null   object \n",
            " 16  Manager_Num_Application      4221 non-null   float64\n",
            " 17  Manager_Num_Coded            4221 non-null   float64\n",
            " 18  Manager_Business             4221 non-null   float64\n",
            " 19  Manager_Num_Products         4221 non-null   float64\n",
            " 20  Manager_Business2            4221 non-null   float64\n",
            " 21  Manager_Num_Products2        4221 non-null   float64\n",
            "dtypes: float64(8), int64(1), object(13)\n",
            "memory usage: 867.2+ KB\n"
          ],
          "name": "stdout"
        }
      ]
    },
    {
      "cell_type": "markdown",
      "metadata": {
        "id": "9WwADWXQh95p"
      },
      "source": [
        "The ID column is irrelevant to the data and has no significant value that can contribute to classification, so removing it from the data."
      ]
    },
    {
      "cell_type": "code",
      "metadata": {
        "id": "qhUli-YHtoub"
      },
      "source": [
        "data = data.drop(columns=['ID'], axis =1)\n",
        "data_test = data_test.drop(columns=['ID'], axis =1)"
      ],
      "execution_count": null,
      "outputs": []
    },
    {
      "cell_type": "markdown",
      "metadata": {
        "id": "Jw3MkH-8J80g"
      },
      "source": [
        "### Checking whether data is balance or not"
      ]
    },
    {
      "cell_type": "code",
      "metadata": {
        "colab": {
          "base_uri": "https://localhost:8080/",
          "height": 283
        },
        "id": "x4GbHvVdKFbv",
        "outputId": "899da19c-f42e-4035-fe16-4245525a33fc"
      },
      "source": [
        "data['Business_Sourced'].value_counts().sort_values().plot(kind = 'barh')"
      ],
      "execution_count": null,
      "outputs": [
        {
          "output_type": "execute_result",
          "data": {
            "text/plain": [
              "<matplotlib.axes._subplots.AxesSubplot at 0x7f179b894a50>"
            ]
          },
          "metadata": {
            "tags": []
          },
          "execution_count": 12
        },
        {
          "output_type": "display_data",
          "data": {
            "image/png": "[encoded data removed]",
            "text/plain": [
              "<Figure size 432x288 with 1 Axes>"
            ]
          },
          "metadata": {
            "tags": [],
            "needs_background": "light"
          }
        }
      ]
    },
    {
      "cell_type": "markdown",
      "metadata": {
        "id": "Ry8-INy1vTVX"
      },
      "source": [
        "From the above graph, it is clear that ytraining data is highly imbalanced."
      ]
    },
    {
      "cell_type": "markdown",
      "metadata": {
        "id": "7KY7zXWGspqL"
      },
      "source": [
        "### Handling the Missing Value"
      ]
    },
    {
      "cell_type": "markdown",
      "metadata": {
        "id": "ac3epjHWwu9k"
      },
      "source": [
        "#### Numerical Variable"
      ]
    },
    {
      "cell_type": "code",
      "metadata": {
        "id": "1iFLArJJrS0s"
      },
      "source": [
        "float_col = data.select_dtypes(include='float64').columns\n",
        "\n",
        "for i in float_col:\n",
        "  data[i] = data[i].interpolate(method='linear')\n",
        "  data_test[i] = data_test[i].interpolate(method='linear')"
      ],
      "execution_count": null,
      "outputs": []
    },
    {
      "cell_type": "markdown",
      "metadata": {
        "id": "oDNtoDs2it4q"
      },
      "source": [
        "Here, Linear Interpolation is used to handle the missing value in Numerical variables because Linear interpolation is an imputation technique that assumes a linear relationship between data points and utilizes non-missing values from adjacent data points to compute a value for a missing data point."
      ]
    },
    {
      "cell_type": "markdown",
      "metadata": {
        "id": "3Yc1QQQHwzYD"
      },
      "source": [
        "#### Categorical Variable"
      ]
    },
    {
      "cell_type": "code",
      "metadata": {
        "id": "GVYeMwVSribn"
      },
      "source": [
        "cat_col = data.select_dtypes(include='object').columns\n",
        "\n",
        "for i in cat_col:\n",
        "  data[i] = data[i].fillna(data_test[i].mode()[0])\n",
        "  data_test[i] = data_test[i].fillna(data_test[i].mode()[0])"
      ],
      "execution_count": null,
      "outputs": []
    },
    {
      "cell_type": "markdown",
      "metadata": {
        "id": "XbBmn-_Mi8Dy"
      },
      "source": [
        "Here, *mode* (most frequent category) is used to replace missing value in Categorical Variable."
      ]
    },
    {
      "cell_type": "code",
      "metadata": {
        "colab": {
          "base_uri": "https://localhost:8080/"
        },
        "id": "IG27eGASsjxY",
        "outputId": "9ef5c543-6832-4432-d5fc-5407d8761d1b"
      },
      "source": [
        "data.info()"
      ],
      "execution_count": null,
      "outputs": [
        {
          "output_type": "stream",
          "text": [
            "<class 'pandas.core.frame.DataFrame'>\n",
            "RangeIndex: 9527 entries, 0 to 9526\n",
            "Data columns (total 22 columns):\n",
            " #   Column                       Non-Null Count  Dtype  \n",
            "---  ------                       --------------  -----  \n",
            " 0   Office_PIN                   9527 non-null   int64  \n",
            " 1   Application_Receipt_Date     9527 non-null   object \n",
            " 2   Applicant_City_PIN           9527 non-null   float64\n",
            " 3   Applicant_Gender             9527 non-null   object \n",
            " 4   Applicant_BirthDate          9527 non-null   object \n",
            " 5   Applicant_Marital_Status     9527 non-null   object \n",
            " 6   Applicant_Occupation         9527 non-null   object \n",
            " 7   Applicant_Qualification      9527 non-null   object \n",
            " 8   Manager_DOJ                  9527 non-null   object \n",
            " 9   Manager_Joining_Designation  9527 non-null   object \n",
            " 10  Manager_Current_Designation  9527 non-null   object \n",
            " 11  Manager_Grade                9527 non-null   float64\n",
            " 12  Manager_Status               9527 non-null   object \n",
            " 13  Manager_Gender               9527 non-null   object \n",
            " 14  Manager_DoB                  9527 non-null   object \n",
            " 15  Manager_Num_Application      9527 non-null   float64\n",
            " 16  Manager_Num_Coded            9527 non-null   float64\n",
            " 17  Manager_Business             9527 non-null   float64\n",
            " 18  Manager_Num_Products         9527 non-null   float64\n",
            " 19  Manager_Business2            9527 non-null   float64\n",
            " 20  Manager_Num_Products2        9527 non-null   float64\n",
            " 21  Business_Sourced             9527 non-null   int64  \n",
            "dtypes: float64(8), int64(2), object(12)\n",
            "memory usage: 1.6+ MB\n"
          ],
          "name": "stdout"
        }
      ]
    },
    {
      "cell_type": "code",
      "metadata": {
        "colab": {
          "base_uri": "https://localhost:8080/"
        },
        "id": "U9wlfhFK0nwB",
        "outputId": "d924f11f-d30f-403b-ab4f-3d390086d615"
      },
      "source": [
        "data_test.info()"
      ],
      "execution_count": null,
      "outputs": [
        {
          "output_type": "stream",
          "text": [
            "<class 'pandas.core.frame.DataFrame'>\n",
            "RangeIndex: 5045 entries, 0 to 5044\n",
            "Data columns (total 21 columns):\n",
            " #   Column                       Non-Null Count  Dtype  \n",
            "---  ------                       --------------  -----  \n",
            " 0   Office_PIN                   5045 non-null   int64  \n",
            " 1   Application_Receipt_Date     5045 non-null   object \n",
            " 2   Applicant_City_PIN           5045 non-null   float64\n",
            " 3   Applicant_Gender             5045 non-null   object \n",
            " 4   Applicant_BirthDate          5045 non-null   object \n",
            " 5   Applicant_Marital_Status     5045 non-null   object \n",
            " 6   Applicant_Occupation         5045 non-null   object \n",
            " 7   Applicant_Qualification      5045 non-null   object \n",
            " 8   Manager_DOJ                  5045 non-null   object \n",
            " 9   Manager_Joining_Designation  5045 non-null   object \n",
            " 10  Manager_Current_Designation  5045 non-null   object \n",
            " 11  Manager_Grade                5045 non-null   float64\n",
            " 12  Manager_Status               5045 non-null   object \n",
            " 13  Manager_Gender               5045 non-null   object \n",
            " 14  Manager_DoB                  5045 non-null   object \n",
            " 15  Manager_Num_Application      5045 non-null   float64\n",
            " 16  Manager_Num_Coded            5045 non-null   float64\n",
            " 17  Manager_Business             5045 non-null   float64\n",
            " 18  Manager_Num_Products         5045 non-null   float64\n",
            " 19  Manager_Business2            5045 non-null   float64\n",
            " 20  Manager_Num_Products2        5045 non-null   float64\n",
            "dtypes: float64(8), int64(1), object(12)\n",
            "memory usage: 827.8+ KB\n"
          ],
          "name": "stdout"
        }
      ]
    },
    {
      "cell_type": "markdown",
      "metadata": {
        "id": "KEur6XQJxSRn"
      },
      "source": [
        "### Handling *DateTime* columns"
      ]
    },
    {
      "cell_type": "code",
      "metadata": {
        "id": "Jlks_iXbwVMM"
      },
      "source": [
        "date_col = ['Manager_DoB', 'Manager_DOJ', 'Application_Receipt_Date', 'Applicant_BirthDate']\n",
        "\n",
        "for i in date_col:\n",
        "  data[i] = pd.to_datetime(data[i])\n",
        "  data[i] = data[i].map(dt.datetime.toordinal)\n",
        "\n",
        "  data_test[i] = pd.to_datetime(data_test[i])\n",
        "  data_test[i] = data_test[i].map(dt.datetime.toordinal)  "
      ],
      "execution_count": null,
      "outputs": []
    },
    {
      "cell_type": "markdown",
      "metadata": {
        "id": "VYqgjsOUjJKA"
      },
      "source": [
        "Here, all the columns with date is handeled by ***datetime object*** which provides different set of tools using which we can perform all the necessary tasks for date-time columns."
      ]
    },
    {
      "cell_type": "markdown",
      "metadata": {
        "id": "gsagFAOXsvnz"
      },
      "source": [
        "### Handling Categorical Variable"
      ]
    },
    {
      "cell_type": "code",
      "metadata": {
        "colab": {
          "base_uri": "https://localhost:8080/"
        },
        "id": "paHXtKZmsy4c",
        "outputId": "eeaa6705-3521-42e8-d4cc-08e47e93138b"
      },
      "source": [
        "one_hot_col = []\n",
        "\n",
        "for i in cat_col:\n",
        "  length = len(data[i].unique())\n",
        "  print(f\"Unique values for Column {i} : {length}\")\n",
        "  if length < 12:\n",
        "    one_hot_col.append(i)"
      ],
      "execution_count": null,
      "outputs": [
        {
          "output_type": "stream",
          "text": [
            "Unique values for Column Application_Receipt_Date : 357\n",
            "Unique values for Column Applicant_Gender : 2\n",
            "Unique values for Column Applicant_BirthDate : 5836\n",
            "Unique values for Column Applicant_Marital_Status : 4\n",
            "Unique values for Column Applicant_Occupation : 5\n",
            "Unique values for Column Applicant_Qualification : 11\n",
            "Unique values for Column Manager_DOJ : 647\n",
            "Unique values for Column Manager_Joining_Designation : 8\n",
            "Unique values for Column Manager_Current_Designation : 5\n",
            "Unique values for Column Manager_Status : 2\n",
            "Unique values for Column Manager_Gender : 2\n",
            "Unique values for Column Manager_DoB : 1246\n"
          ],
          "name": "stdout"
        }
      ]
    },
    {
      "cell_type": "markdown",
      "metadata": {
        "id": "z3WJwdM2kDQA"
      },
      "source": [
        "Here, for all the variables which have less than 12 unique values are converted using ***one-hot encoding*** and all other variables only contain ***date*** which is handeled already above."
      ]
    },
    {
      "cell_type": "code",
      "metadata": {
        "id": "LzAx1M6jucER"
      },
      "source": [
        "data = pd.get_dummies(data, columns = one_hot_col)\n",
        "data_test = pd.get_dummies(data_test, columns = one_hot_col)\n",
        "\n",
        "train_col = data.columns\n",
        "test_col = data_test.columns\n",
        "\n",
        "for i in train_col:\n",
        "  if i not in test_col:\n",
        "    data_test[i] = [0] * 5045\n",
        "\n",
        "data_test = data_test.drop(columns=['Business_Sourced'], axis =1)"
      ],
      "execution_count": null,
      "outputs": []
    },
    {
      "cell_type": "markdown",
      "metadata": {
        "id": "FidKz7MRkOXE"
      },
      "source": [
        "Convert all these variabless into dummy variable."
      ]
    },
    {
      "cell_type": "code",
      "metadata": {
        "id": "gor6Lll_Gse3"
      },
      "source": [
        "for i in test_col:\n",
        "  if i not in train_col:\n",
        "    data[i] = [0] * 9527"
      ],
      "execution_count": null,
      "outputs": []
    },
    {
      "cell_type": "markdown",
      "metadata": {
        "id": "_2RACc4YkTBF"
      },
      "source": [
        "If the column is present in test dataset but not in train, that column is added in train dataset by setting values to ***0***."
      ]
    },
    {
      "cell_type": "code",
      "metadata": {
        "colab": {
          "base_uri": "https://localhost:8080/"
        },
        "id": "g7yv_GOtvBgY",
        "outputId": "40ec2512-b321-4cd9-ae2a-d36ec0036d46"
      },
      "source": [
        "data.info()"
      ],
      "execution_count": null,
      "outputs": [
        {
          "output_type": "stream",
          "text": [
            "<class 'pandas.core.frame.DataFrame'>\n",
            "RangeIndex: 9527 entries, 0 to 9526\n",
            "Data columns (total 54 columns):\n",
            " #   Column                                                                                                      Non-Null Count  Dtype  \n",
            "---  ------                                                                                                      --------------  -----  \n",
            " 0   Office_PIN                                                                                                  9527 non-null   int64  \n",
            " 1   Application_Receipt_Date                                                                                    9527 non-null   int64  \n",
            " 2   Applicant_City_PIN                                                                                          9527 non-null   float64\n",
            " 3   Applicant_BirthDate                                                                                         9527 non-null   int64  \n",
            " 4   Manager_DOJ                                                                                                 9527 non-null   int64  \n",
            " 5   Manager_Grade                                                                                               9527 non-null   float64\n",
            " 6   Manager_DoB                                                                                                 9527 non-null   int64  \n",
            " 7   Manager_Num_Application                                                                                     9527 non-null   float64\n",
            " 8   Manager_Num_Coded                                                                                           9527 non-null   float64\n",
            " 9   Manager_Business                                                                                            9527 non-null   float64\n",
            " 10  Manager_Num_Products                                                                                        9527 non-null   float64\n",
            " 11  Manager_Business2                                                                                           9527 non-null   float64\n",
            " 12  Manager_Num_Products2                                                                                       9527 non-null   float64\n",
            " 13  Business_Sourced                                                                                            9527 non-null   int64  \n",
            " 14  Applicant_Gender_F                                                                                          9527 non-null   uint8  \n",
            " 15  Applicant_Gender_M                                                                                          9527 non-null   uint8  \n",
            " 16  Applicant_Marital_Status_D                                                                                  9527 non-null   uint8  \n",
            " 17  Applicant_Marital_Status_M                                                                                  9527 non-null   uint8  \n",
            " 18  Applicant_Marital_Status_S                                                                                  9527 non-null   uint8  \n",
            " 19  Applicant_Marital_Status_W                                                                                  9527 non-null   uint8  \n",
            " 20  Applicant_Occupation_Business                                                                               9527 non-null   uint8  \n",
            " 21  Applicant_Occupation_Others                                                                                 9527 non-null   uint8  \n",
            " 22  Applicant_Occupation_Salaried                                                                               9527 non-null   uint8  \n",
            " 23  Applicant_Occupation_Self Employed                                                                          9527 non-null   uint8  \n",
            " 24  Applicant_Occupation_Student                                                                                9527 non-null   uint8  \n",
            " 25  Applicant_Qualification_Associate / Fellow of Institute of Chartered Accountans of India                    9527 non-null   uint8  \n",
            " 26  Applicant_Qualification_Associate/Fellow of Acturial Society of India                                       9527 non-null   uint8  \n",
            " 27  Applicant_Qualification_Associate/Fellow of Institute of Company Secretories of India                       9527 non-null   uint8  \n",
            " 28  Applicant_Qualification_Associate/Fellow of Insurance Institute of India                                    9527 non-null   uint8  \n",
            " 29  Applicant_Qualification_Certified Associateship of Indian Institute of Bankers                              9527 non-null   uint8  \n",
            " 30  Applicant_Qualification_Class X                                                                             9527 non-null   uint8  \n",
            " 31  Applicant_Qualification_Class XII                                                                           9527 non-null   uint8  \n",
            " 32  Applicant_Qualification_Graduate                                                                            9527 non-null   uint8  \n",
            " 33  Applicant_Qualification_Masters of Business Administration                                                  9527 non-null   uint8  \n",
            " 34  Applicant_Qualification_Others                                                                              9527 non-null   uint8  \n",
            " 35  Applicant_Qualification_Professional Qualification in Marketing                                             9527 non-null   uint8  \n",
            " 36  Manager_Joining_Designation_Level 1                                                                         9527 non-null   uint8  \n",
            " 37  Manager_Joining_Designation_Level 2                                                                         9527 non-null   uint8  \n",
            " 38  Manager_Joining_Designation_Level 3                                                                         9527 non-null   uint8  \n",
            " 39  Manager_Joining_Designation_Level 4                                                                         9527 non-null   uint8  \n",
            " 40  Manager_Joining_Designation_Level 5                                                                         9527 non-null   uint8  \n",
            " 41  Manager_Joining_Designation_Level 6                                                                         9527 non-null   uint8  \n",
            " 42  Manager_Joining_Designation_Level 7                                                                         9527 non-null   uint8  \n",
            " 43  Manager_Joining_Designation_Other                                                                           9527 non-null   uint8  \n",
            " 44  Manager_Current_Designation_Level 1                                                                         9527 non-null   uint8  \n",
            " 45  Manager_Current_Designation_Level 2                                                                         9527 non-null   uint8  \n",
            " 46  Manager_Current_Designation_Level 3                                                                         9527 non-null   uint8  \n",
            " 47  Manager_Current_Designation_Level 4                                                                         9527 non-null   uint8  \n",
            " 48  Manager_Current_Designation_Level 5                                                                         9527 non-null   uint8  \n",
            " 49  Manager_Status_Confirmation                                                                                 9527 non-null   uint8  \n",
            " 50  Manager_Status_Probation                                                                                    9527 non-null   uint8  \n",
            " 51  Manager_Gender_F                                                                                            9527 non-null   uint8  \n",
            " 52  Manager_Gender_M                                                                                            9527 non-null   uint8  \n",
            " 53  Applicant_Qualification_Associate/Fellow of Institute of Institute of Costs and Works Accountants of India  9527 non-null   int64  \n",
            "dtypes: float64(8), int64(7), uint8(39)\n",
            "memory usage: 1.4 MB\n"
          ],
          "name": "stdout"
        }
      ]
    },
    {
      "cell_type": "code",
      "metadata": {
        "colab": {
          "base_uri": "https://localhost:8080/"
        },
        "id": "xPZSq39E1J0x",
        "outputId": "48f94854-4a18-44c2-8f55-c7d534cc7279"
      },
      "source": [
        "data_test.info()"
      ],
      "execution_count": null,
      "outputs": [
        {
          "output_type": "stream",
          "text": [
            "<class 'pandas.core.frame.DataFrame'>\n",
            "RangeIndex: 5045 entries, 0 to 5044\n",
            "Data columns (total 53 columns):\n",
            " #   Column                                                                                                      Non-Null Count  Dtype  \n",
            "---  ------                                                                                                      --------------  -----  \n",
            " 0   Office_PIN                                                                                                  5045 non-null   int64  \n",
            " 1   Application_Receipt_Date                                                                                    5045 non-null   int64  \n",
            " 2   Applicant_City_PIN                                                                                          5045 non-null   float64\n",
            " 3   Applicant_BirthDate                                                                                         5045 non-null   int64  \n",
            " 4   Manager_DOJ                                                                                                 5045 non-null   int64  \n",
            " 5   Manager_Grade                                                                                               5045 non-null   float64\n",
            " 6   Manager_DoB                                                                                                 5045 non-null   int64  \n",
            " 7   Manager_Num_Application                                                                                     5045 non-null   float64\n",
            " 8   Manager_Num_Coded                                                                                           5045 non-null   float64\n",
            " 9   Manager_Business                                                                                            5045 non-null   float64\n",
            " 10  Manager_Num_Products                                                                                        5045 non-null   float64\n",
            " 11  Manager_Business2                                                                                           5045 non-null   float64\n",
            " 12  Manager_Num_Products2                                                                                       5045 non-null   float64\n",
            " 13  Applicant_Gender_F                                                                                          5045 non-null   uint8  \n",
            " 14  Applicant_Gender_M                                                                                          5045 non-null   uint8  \n",
            " 15  Applicant_Marital_Status_D                                                                                  5045 non-null   uint8  \n",
            " 16  Applicant_Marital_Status_M                                                                                  5045 non-null   uint8  \n",
            " 17  Applicant_Marital_Status_S                                                                                  5045 non-null   uint8  \n",
            " 18  Applicant_Marital_Status_W                                                                                  5045 non-null   uint8  \n",
            " 19  Applicant_Occupation_Business                                                                               5045 non-null   uint8  \n",
            " 20  Applicant_Occupation_Others                                                                                 5045 non-null   uint8  \n",
            " 21  Applicant_Occupation_Salaried                                                                               5045 non-null   uint8  \n",
            " 22  Applicant_Occupation_Self Employed                                                                          5045 non-null   uint8  \n",
            " 23  Applicant_Occupation_Student                                                                                5045 non-null   uint8  \n",
            " 24  Applicant_Qualification_Associate / Fellow of Institute of Chartered Accountans of India                    5045 non-null   uint8  \n",
            " 25  Applicant_Qualification_Associate/Fellow of Institute of Institute of Costs and Works Accountants of India  5045 non-null   uint8  \n",
            " 26  Applicant_Qualification_Class X                                                                             5045 non-null   uint8  \n",
            " 27  Applicant_Qualification_Class XII                                                                           5045 non-null   uint8  \n",
            " 28  Applicant_Qualification_Graduate                                                                            5045 non-null   uint8  \n",
            " 29  Applicant_Qualification_Masters of Business Administration                                                  5045 non-null   uint8  \n",
            " 30  Applicant_Qualification_Others                                                                              5045 non-null   uint8  \n",
            " 31  Applicant_Qualification_Professional Qualification in Marketing                                             5045 non-null   uint8  \n",
            " 32  Manager_Joining_Designation_Level 1                                                                         5045 non-null   uint8  \n",
            " 33  Manager_Joining_Designation_Level 2                                                                         5045 non-null   uint8  \n",
            " 34  Manager_Joining_Designation_Level 3                                                                         5045 non-null   uint8  \n",
            " 35  Manager_Joining_Designation_Level 4                                                                         5045 non-null   uint8  \n",
            " 36  Manager_Joining_Designation_Level 5                                                                         5045 non-null   uint8  \n",
            " 37  Manager_Joining_Designation_Level 6                                                                         5045 non-null   uint8  \n",
            " 38  Manager_Current_Designation_Level 1                                                                         5045 non-null   uint8  \n",
            " 39  Manager_Current_Designation_Level 2                                                                         5045 non-null   uint8  \n",
            " 40  Manager_Current_Designation_Level 3                                                                         5045 non-null   uint8  \n",
            " 41  Manager_Current_Designation_Level 4                                                                         5045 non-null   uint8  \n",
            " 42  Manager_Current_Designation_Level 5                                                                         5045 non-null   uint8  \n",
            " 43  Manager_Status_Confirmation                                                                                 5045 non-null   uint8  \n",
            " 44  Manager_Status_Probation                                                                                    5045 non-null   uint8  \n",
            " 45  Manager_Gender_F                                                                                            5045 non-null   uint8  \n",
            " 46  Manager_Gender_M                                                                                            5045 non-null   uint8  \n",
            " 47  Applicant_Qualification_Associate/Fellow of Acturial Society of India                                       5045 non-null   int64  \n",
            " 48  Applicant_Qualification_Associate/Fellow of Institute of Company Secretories of India                       5045 non-null   int64  \n",
            " 49  Applicant_Qualification_Associate/Fellow of Insurance Institute of India                                    5045 non-null   int64  \n",
            " 50  Applicant_Qualification_Certified Associateship of Indian Institute of Bankers                              5045 non-null   int64  \n",
            " 51  Manager_Joining_Designation_Level 7                                                                         5045 non-null   int64  \n",
            " 52  Manager_Joining_Designation_Other                                                                           5045 non-null   int64  \n",
            "dtypes: float64(8), int64(11), uint8(34)\n",
            "memory usage: 916.5 KB\n"
          ],
          "name": "stdout"
        }
      ]
    },
    {
      "cell_type": "markdown",
      "metadata": {
        "id": "bh90Ci7dm70B"
      },
      "source": [
        "## Standard Scaler (Standarizing the Data)"
      ]
    },
    {
      "cell_type": "code",
      "metadata": {
        "id": "vbiyLSzLgUBn"
      },
      "source": [
        "x = data.drop(columns='Business_Sourced', axis=1)\n",
        "y = data['Business_Sourced']\n",
        "\n",
        "data_test = data_test.values"
      ],
      "execution_count": null,
      "outputs": []
    },
    {
      "cell_type": "code",
      "metadata": {
        "colab": {
          "base_uri": "https://localhost:8080/"
        },
        "id": "eMwaFSrbEykD",
        "outputId": "525ffd9e-3c8d-4b15-ca4b-0bb2c1c878d4"
      },
      "source": [
        "x.shape"
      ],
      "execution_count": null,
      "outputs": [
        {
          "output_type": "execute_result",
          "data": {
            "text/plain": [
              "(9527, 53)"
            ]
          },
          "metadata": {
            "tags": []
          },
          "execution_count": 24
        }
      ]
    },
    {
      "cell_type": "code",
      "metadata": {
        "colab": {
          "base_uri": "https://localhost:8080/"
        },
        "id": "ggHeZdNjE0JP",
        "outputId": "a1c1ec67-5c8c-4402-f530-0073d77fc55b"
      },
      "source": [
        "data_test.shape"
      ],
      "execution_count": null,
      "outputs": [
        {
          "output_type": "execute_result",
          "data": {
            "text/plain": [
              "(5045, 53)"
            ]
          },
          "metadata": {
            "tags": []
          },
          "execution_count": 25
        }
      ]
    },
    {
      "cell_type": "code",
      "metadata": {
        "id": "yIqqrX-Tm9sA"
      },
      "source": [
        "scaler = StandardScaler()\n",
        "\n",
        "x = scaler.fit_transform(x)\n",
        "data_test = scaler.transform(data_test)"
      ],
      "execution_count": null,
      "outputs": []
    },
    {
      "cell_type": "markdown",
      "metadata": {
        "id": "sJXInimMyDQd"
      },
      "source": [
        "# Train the Model"
      ]
    },
    {
      "cell_type": "markdown",
      "metadata": {
        "id": "m9l7pVmom3Gg"
      },
      "source": [
        "## Random Forest"
      ]
    },
    {
      "cell_type": "markdown",
      "metadata": {
        "id": "Hu3neBbHk-mi"
      },
      "source": [
        "I have decided to use Random Forest instead of other Algorithms that was available. Becasue it works better in case of imbalanced dataset compared to other algorithm."
      ]
    },
    {
      "cell_type": "code",
      "metadata": {
        "id": "8nVVC6jGm5bb"
      },
      "source": [
        "rf =  ensemble.RandomForestClassifier(bootstrap=False, ccp_alpha=0.0, class_weight=None,\n",
        "                       criterion='gini', max_depth=101, max_features='log2',\n",
        "                       max_leaf_nodes=None, max_samples=None,\n",
        "                       min_impurity_decrease=0.0, min_impurity_split=None,\n",
        "                       min_samples_leaf=1, min_samples_split=2,\n",
        "                       min_weight_fraction_leaf=0.0, n_estimators=175,\n",
        "                       n_jobs=None, oob_score=False, random_state=None,\n",
        "                       verbose=0, warm_start=False)"
      ],
      "execution_count": null,
      "outputs": []
    },
    {
      "cell_type": "code",
      "metadata": {
        "colab": {
          "base_uri": "https://localhost:8080/"
        },
        "id": "z-Sj8o0WnCqo",
        "outputId": "0cfb7512-b5fa-468c-af3d-9ceee638b7ca"
      },
      "source": [
        "rf.fit(x, y)"
      ],
      "execution_count": null,
      "outputs": [
        {
          "output_type": "execute_result",
          "data": {
            "text/plain": [
              "RandomForestClassifier(bootstrap=False, ccp_alpha=0.0, class_weight=None,\n",
              "                       criterion='gini', max_depth=101, max_features='log2',\n",
              "                       max_leaf_nodes=None, max_samples=None,\n",
              "                       min_impurity_decrease=0.0, min_impurity_split=None,\n",
              "                       min_samples_leaf=1, min_samples_split=2,\n",
              "                       min_weight_fraction_leaf=0.0, n_estimators=175,\n",
              "                       n_jobs=None, oob_score=False, random_state=None,\n",
              "                       verbose=0, warm_start=False)"
            ]
          },
          "metadata": {
            "tags": []
          },
          "execution_count": 28
        }
      ]
    },
    {
      "cell_type": "code",
      "metadata": {
        "id": "awuoz69gqlAq"
      },
      "source": [
        "y_pred = rf.predict(data_test)"
      ],
      "execution_count": null,
      "outputs": []
    },
    {
      "cell_type": "code",
      "metadata": {
        "id": "eRm1eWH6qrl5"
      },
      "source": [
        "df = pd.DataFrame(list(zip(solution['ID'].tolist(), list(y_pred))), columns= ['ID', 'Business_Sourced'])\n",
        "df.to_csv('Sample Solution ensemble RF.csv', index=False)"
      ],
      "execution_count": null,
      "outputs": []
    },
    {
      "cell_type": "markdown",
      "metadata": {
        "id": "QID9BHxK0XPn"
      },
      "source": [
        "One of the reasons why RF didn't performed well is that more number of features and less amount data. RF needs more data to learn as it has many parameters."
      ]
    }
  ]
}